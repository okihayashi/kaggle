{
 "cells": [
  {
   "cell_type": "code",
<<<<<<< HEAD
   "execution_count": 15,
=======
   "execution_count": 34,
>>>>>>> 6f3fca003053b273795db17b57b49f11d082288b
   "metadata": {},
   "outputs": [
    {
     "name": "stderr",
     "output_type": "stream",
     "text": [
<<<<<<< HEAD
      "/Users/okihayas/anaconda3/lib/python3.7/site-packages/ipykernel_launcher.py:19: FutureWarning: Method .as_matrix will be removed in a future version. Use .values instead.\n",
      "/Users/okihayas/anaconda3/lib/python3.7/site-packages/ipykernel_launcher.py:20: FutureWarning: Method .as_matrix will be removed in a future version. Use .values instead.\n"
=======
      "/Users/okihayas/anaconda3/lib/python3.6/site-packages/ipykernel_launcher.py:19: FutureWarning: Method .as_matrix will be removed in a future version. Use .values instead.\n",
      "/Users/okihayas/anaconda3/lib/python3.6/site-packages/ipykernel_launcher.py:20: FutureWarning: Method .as_matrix will be removed in a future version. Use .values instead.\n"
>>>>>>> 6f3fca003053b273795db17b57b49f11d082288b
     ]
    },
    {
     "name": "stdout",
     "output_type": "stream",
     "text": [
      "(33600, 784)\n",
      "(8400, 784)\n"
     ]
<<<<<<< HEAD
    },
    {
     "data": {
      "text/plain": [
       "array([[0, 0, 0, ..., 0, 0, 0],\n",
       "       [0, 0, 0, ..., 0, 0, 0],\n",
       "       [0, 0, 0, ..., 0, 0, 0],\n",
       "       ...,\n",
       "       [0, 0, 0, ..., 0, 0, 0],\n",
       "       [0, 0, 0, ..., 0, 0, 0],\n",
       "       [0, 0, 0, ..., 0, 0, 0]])"
      ]
     },
     "execution_count": 15,
     "metadata": {},
     "output_type": "execute_result"
=======
>>>>>>> 6f3fca003053b273795db17b57b49f11d082288b
    }
   ],
   "source": [
    "import pandas as pd\n",
    "from collections import Counter\n",
    "import sys, os\n",
    "sys.path.append(os.pardir)  # 親ディレクトリのファイルをインポートするための設定\n",
    "import pickle\n",
    "import numpy as np\n",
    "from collections import OrderedDict\n",
    "from common.layers import *\n",
    "from common.gradient import numerical_gradient\n",
    "import seaborn as sns\n",
    "from sklearn.model_selection import train_test_split\n",
    "\n",
    "%matplotlib inline\n",
    "\n",
    "\n",
    "train = pd.read_csv('train.csv')\n",
    "#print(train.shape)\n",
    "\n",
    "x = train.drop('label', axis=1).as_matrix()\n",
    "t = train['label'].as_matrix()\n",
    "\n",
<<<<<<< HEAD
    "x_train0, x_test0, t_train, t_test = train_test_split(x, t, train_size=0.8, test_size=0.2, random_state=1)\n",
    "\n",
    "print(x_train0.shape)\n",
    "print(x_test0.shape)"
   ]
  },
  {
   "cell_type": "code",
   "execution_count": 25,
   "metadata": {},
   "outputs": [
    {
     "name": "stdout",
     "output_type": "stream",
     "text": [
      "(33600, 1, 28, 28)\n",
      "(8400, 1, 28, 28)\n"
     ]
    }
   ],
   "source": [
    "x_train = x_train0.reshape(33600, 1, 28, 28)\n",
    "x_test = x_test0.reshape(8400, 1, 28, 28)\n",
=======
    "x_train, x_test, t_train, t_test = train_test_split(x, t, train_size=0.8, test_size=0.2, random_state=1)\n",
>>>>>>> 6f3fca003053b273795db17b57b49f11d082288b
    "\n",
    "print(x_train.shape)\n",
    "print(x_test.shape)"
   ]
  },
  {
   "cell_type": "code",
<<<<<<< HEAD
   "execution_count": 26,
=======
   "execution_count": 35,
   "metadata": {},
   "outputs": [
    {
     "data": {
      "text/plain": [
       "(33600, 28, 28)"
      ]
     },
     "execution_count": 35,
     "metadata": {},
     "output_type": "execute_result"
    }
   ],
   "source": [
    "x_train = x_train.reshape(33600, 28, 28)\n",
    "x_train.shape"
   ]
  },
  {
   "cell_type": "code",
   "execution_count": 28,
>>>>>>> 6f3fca003053b273795db17b57b49f11d082288b
   "metadata": {},
   "outputs": [
    {
     "data": {
      "text/plain": [
       "Counter({1: 4684,\n",
       "         0: 4132,\n",
       "         4: 4072,\n",
       "         7: 4401,\n",
       "         3: 4351,\n",
       "         5: 3795,\n",
       "         8: 4063,\n",
       "         9: 4188,\n",
       "         2: 4177,\n",
       "         6: 4137})"
      ]
     },
<<<<<<< HEAD
     "execution_count": 26,
=======
     "execution_count": 28,
>>>>>>> 6f3fca003053b273795db17b57b49f11d082288b
     "metadata": {},
     "output_type": "execute_result"
    }
   ],
   "source": [
    "label = train['label']\n",
    "Counter(label)"
   ]
  },
  {
   "cell_type": "code",
<<<<<<< HEAD
   "execution_count": 27,
=======
   "execution_count": 29,
>>>>>>> 6f3fca003053b273795db17b57b49f11d082288b
   "metadata": {},
   "outputs": [
    {
     "data": {
      "text/plain": [
<<<<<<< HEAD
       "<matplotlib.axes._subplots.AxesSubplot at 0x1a6d6f40f0>"
      ]
     },
     "execution_count": 27,
=======
       "<matplotlib.axes._subplots.AxesSubplot at 0x1a21740ac8>"
      ]
     },
     "execution_count": 29,
>>>>>>> 6f3fca003053b273795db17b57b49f11d082288b
     "metadata": {},
     "output_type": "execute_result"
    },
    {
     "data": {
      "image/png": "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\n",
      "text/plain": [
       "<Figure size 432x288 with 1 Axes>"
      ]
     },
     "metadata": {},
     "output_type": "display_data"
    }
   ],
   "source": [
    "sns.countplot(label)"
   ]
  },
  {
   "cell_type": "code",
<<<<<<< HEAD
   "execution_count": 28,
   "metadata": {},
   "outputs": [
    {
     "data": {
      "image/png": "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\n",
      "text/plain": [
       "<Figure size 432x288 with 1 Axes>"
      ]
     },
     "metadata": {
      "needs_background": "light"
     },
     "output_type": "display_data"
=======
   "execution_count": 31,
   "metadata": {},
   "outputs": [
    {
     "ename": "ValueError",
     "evalue": "not enough values to unpack (expected 4, got 3)",
     "output_type": "error",
     "traceback": [
      "\u001b[0;31m---------------------------------------------------------------------------\u001b[0m",
      "\u001b[0;31mValueError\u001b[0m                                Traceback (most recent call last)",
      "\u001b[0;32m<ipython-input-31-b46a9facb009>\u001b[0m in \u001b[0;36m<module>\u001b[0;34m()\u001b[0m\n\u001b[1;32m     19\u001b[0m                   evaluate_sample_num_per_epoch=1000, verbose=False)\n\u001b[1;32m     20\u001b[0m \u001b[0;34m\u001b[0m\u001b[0m\n\u001b[0;32m---> 21\u001b[0;31m \u001b[0mtrainer\u001b[0m\u001b[0;34m.\u001b[0m\u001b[0mtrain\u001b[0m\u001b[0;34m(\u001b[0m\u001b[0;34m)\u001b[0m\u001b[0;34m\u001b[0m\u001b[0m\n\u001b[0m\u001b[1;32m     22\u001b[0m \u001b[0;34m\u001b[0m\u001b[0m\n\u001b[1;32m     23\u001b[0m \u001b[0mmarkers\u001b[0m \u001b[0;34m=\u001b[0m \u001b[0;34m{\u001b[0m\u001b[0;34m'train'\u001b[0m\u001b[0;34m:\u001b[0m \u001b[0;34m'o'\u001b[0m\u001b[0;34m,\u001b[0m \u001b[0;34m'test'\u001b[0m\u001b[0;34m:\u001b[0m \u001b[0;34m's'\u001b[0m\u001b[0;34m}\u001b[0m\u001b[0;34m\u001b[0m\u001b[0m\n",
      "\u001b[0;32m~/Study/kaggle/common/trainer.py\u001b[0m in \u001b[0;36mtrain\u001b[0;34m(self)\u001b[0m\n\u001b[1;32m     69\u001b[0m     \u001b[0;32mdef\u001b[0m \u001b[0mtrain\u001b[0m\u001b[0;34m(\u001b[0m\u001b[0mself\u001b[0m\u001b[0;34m)\u001b[0m\u001b[0;34m:\u001b[0m\u001b[0;34m\u001b[0m\u001b[0m\n\u001b[1;32m     70\u001b[0m         \u001b[0;32mfor\u001b[0m \u001b[0mi\u001b[0m \u001b[0;32min\u001b[0m \u001b[0mrange\u001b[0m\u001b[0;34m(\u001b[0m\u001b[0mself\u001b[0m\u001b[0;34m.\u001b[0m\u001b[0mmax_iter\u001b[0m\u001b[0;34m)\u001b[0m\u001b[0;34m:\u001b[0m\u001b[0;34m\u001b[0m\u001b[0m\n\u001b[0;32m---> 71\u001b[0;31m             \u001b[0mself\u001b[0m\u001b[0;34m.\u001b[0m\u001b[0mtrain_step\u001b[0m\u001b[0;34m(\u001b[0m\u001b[0;34m)\u001b[0m\u001b[0;34m\u001b[0m\u001b[0m\n\u001b[0m\u001b[1;32m     72\u001b[0m \u001b[0;34m\u001b[0m\u001b[0m\n\u001b[1;32m     73\u001b[0m         \u001b[0mtest_acc\u001b[0m \u001b[0;34m=\u001b[0m \u001b[0mself\u001b[0m\u001b[0;34m.\u001b[0m\u001b[0mnetwork\u001b[0m\u001b[0;34m.\u001b[0m\u001b[0maccuracy\u001b[0m\u001b[0;34m(\u001b[0m\u001b[0mself\u001b[0m\u001b[0;34m.\u001b[0m\u001b[0mx_test\u001b[0m\u001b[0;34m,\u001b[0m \u001b[0mself\u001b[0m\u001b[0;34m.\u001b[0m\u001b[0mt_test\u001b[0m\u001b[0;34m)\u001b[0m\u001b[0;34m\u001b[0m\u001b[0m\n",
      "\u001b[0;32m~/Study/kaggle/common/trainer.py\u001b[0m in \u001b[0;36mtrain_step\u001b[0;34m(self)\u001b[0m\n\u001b[1;32m     42\u001b[0m         \u001b[0mt_batch\u001b[0m \u001b[0;34m=\u001b[0m \u001b[0mself\u001b[0m\u001b[0;34m.\u001b[0m\u001b[0mt_train\u001b[0m\u001b[0;34m[\u001b[0m\u001b[0mbatch_mask\u001b[0m\u001b[0;34m]\u001b[0m\u001b[0;34m\u001b[0m\u001b[0m\n\u001b[1;32m     43\u001b[0m \u001b[0;34m\u001b[0m\u001b[0m\n\u001b[0;32m---> 44\u001b[0;31m         \u001b[0mgrads\u001b[0m \u001b[0;34m=\u001b[0m \u001b[0mself\u001b[0m\u001b[0;34m.\u001b[0m\u001b[0mnetwork\u001b[0m\u001b[0;34m.\u001b[0m\u001b[0mgradient\u001b[0m\u001b[0;34m(\u001b[0m\u001b[0mx_batch\u001b[0m\u001b[0;34m,\u001b[0m \u001b[0mt_batch\u001b[0m\u001b[0;34m)\u001b[0m\u001b[0;34m\u001b[0m\u001b[0m\n\u001b[0m\u001b[1;32m     45\u001b[0m         \u001b[0mself\u001b[0m\u001b[0;34m.\u001b[0m\u001b[0moptimizer\u001b[0m\u001b[0;34m.\u001b[0m\u001b[0mupdate\u001b[0m\u001b[0;34m(\u001b[0m\u001b[0mself\u001b[0m\u001b[0;34m.\u001b[0m\u001b[0mnetwork\u001b[0m\u001b[0;34m.\u001b[0m\u001b[0mparams\u001b[0m\u001b[0;34m,\u001b[0m \u001b[0mgrads\u001b[0m\u001b[0;34m)\u001b[0m\u001b[0;34m\u001b[0m\u001b[0m\n\u001b[1;32m     46\u001b[0m \u001b[0;34m\u001b[0m\u001b[0m\n",
      "\u001b[0;32m~/Study/kaggle/mnist/simple_convnet.py\u001b[0m in \u001b[0;36mgradient\u001b[0;34m(self, x, t)\u001b[0m\n\u001b[1;32m    119\u001b[0m         \"\"\"\n\u001b[1;32m    120\u001b[0m         \u001b[0;31m# forward\u001b[0m\u001b[0;34m\u001b[0m\u001b[0;34m\u001b[0m\u001b[0m\n\u001b[0;32m--> 121\u001b[0;31m         \u001b[0mself\u001b[0m\u001b[0;34m.\u001b[0m\u001b[0mloss\u001b[0m\u001b[0;34m(\u001b[0m\u001b[0mx\u001b[0m\u001b[0;34m,\u001b[0m \u001b[0mt\u001b[0m\u001b[0;34m)\u001b[0m\u001b[0;34m\u001b[0m\u001b[0m\n\u001b[0m\u001b[1;32m    122\u001b[0m \u001b[0;34m\u001b[0m\u001b[0m\n\u001b[1;32m    123\u001b[0m         \u001b[0;31m# backward\u001b[0m\u001b[0;34m\u001b[0m\u001b[0;34m\u001b[0m\u001b[0m\n",
      "\u001b[0;32m~/Study/kaggle/mnist/simple_convnet.py\u001b[0m in \u001b[0;36mloss\u001b[0;34m(self, x, t)\u001b[0m\n\u001b[1;32m     68\u001b[0m         \u001b[0m引数のxは入力データ\u001b[0m\u001b[0;31m、\u001b[0m\u001b[0mtは教師ラベル\u001b[0m\u001b[0;34m\u001b[0m\u001b[0m\n\u001b[1;32m     69\u001b[0m         \"\"\"\n\u001b[0;32m---> 70\u001b[0;31m         \u001b[0my\u001b[0m \u001b[0;34m=\u001b[0m \u001b[0mself\u001b[0m\u001b[0;34m.\u001b[0m\u001b[0mpredict\u001b[0m\u001b[0;34m(\u001b[0m\u001b[0mx\u001b[0m\u001b[0;34m)\u001b[0m\u001b[0;34m\u001b[0m\u001b[0m\n\u001b[0m\u001b[1;32m     71\u001b[0m         \u001b[0;32mreturn\u001b[0m \u001b[0mself\u001b[0m\u001b[0;34m.\u001b[0m\u001b[0mlast_layer\u001b[0m\u001b[0;34m.\u001b[0m\u001b[0mforward\u001b[0m\u001b[0;34m(\u001b[0m\u001b[0my\u001b[0m\u001b[0;34m,\u001b[0m \u001b[0mt\u001b[0m\u001b[0;34m)\u001b[0m\u001b[0;34m\u001b[0m\u001b[0m\n\u001b[1;32m     72\u001b[0m \u001b[0;34m\u001b[0m\u001b[0m\n",
      "\u001b[0;32m~/Study/kaggle/mnist/simple_convnet.py\u001b[0m in \u001b[0;36mpredict\u001b[0;34m(self, x)\u001b[0m\n\u001b[1;32m     60\u001b[0m     \u001b[0;32mdef\u001b[0m \u001b[0mpredict\u001b[0m\u001b[0;34m(\u001b[0m\u001b[0mself\u001b[0m\u001b[0;34m,\u001b[0m \u001b[0mx\u001b[0m\u001b[0;34m)\u001b[0m\u001b[0;34m:\u001b[0m\u001b[0;34m\u001b[0m\u001b[0m\n\u001b[1;32m     61\u001b[0m         \u001b[0;32mfor\u001b[0m \u001b[0mlayer\u001b[0m \u001b[0;32min\u001b[0m \u001b[0mself\u001b[0m\u001b[0;34m.\u001b[0m\u001b[0mlayers\u001b[0m\u001b[0;34m.\u001b[0m\u001b[0mvalues\u001b[0m\u001b[0;34m(\u001b[0m\u001b[0;34m)\u001b[0m\u001b[0;34m:\u001b[0m\u001b[0;34m\u001b[0m\u001b[0m\n\u001b[0;32m---> 62\u001b[0;31m             \u001b[0mx\u001b[0m \u001b[0;34m=\u001b[0m \u001b[0mlayer\u001b[0m\u001b[0;34m.\u001b[0m\u001b[0mforward\u001b[0m\u001b[0;34m(\u001b[0m\u001b[0mx\u001b[0m\u001b[0;34m)\u001b[0m\u001b[0;34m\u001b[0m\u001b[0m\n\u001b[0m\u001b[1;32m     63\u001b[0m \u001b[0;34m\u001b[0m\u001b[0m\n\u001b[1;32m     64\u001b[0m         \u001b[0;32mreturn\u001b[0m \u001b[0mx\u001b[0m\u001b[0;34m\u001b[0m\u001b[0m\n",
      "\u001b[0;32m~/Study/kaggle/common/layers.py\u001b[0m in \u001b[0;36mforward\u001b[0;34m(self, x)\u001b[0m\n\u001b[1;32m    214\u001b[0m     \u001b[0;32mdef\u001b[0m \u001b[0mforward\u001b[0m\u001b[0;34m(\u001b[0m\u001b[0mself\u001b[0m\u001b[0;34m,\u001b[0m \u001b[0mx\u001b[0m\u001b[0;34m)\u001b[0m\u001b[0;34m:\u001b[0m\u001b[0;34m\u001b[0m\u001b[0m\n\u001b[1;32m    215\u001b[0m         \u001b[0mFN\u001b[0m\u001b[0;34m,\u001b[0m \u001b[0mC\u001b[0m\u001b[0;34m,\u001b[0m \u001b[0mFH\u001b[0m\u001b[0;34m,\u001b[0m \u001b[0mFW\u001b[0m \u001b[0;34m=\u001b[0m \u001b[0mself\u001b[0m\u001b[0;34m.\u001b[0m\u001b[0mW\u001b[0m\u001b[0;34m.\u001b[0m\u001b[0mshape\u001b[0m\u001b[0;34m\u001b[0m\u001b[0m\n\u001b[0;32m--> 216\u001b[0;31m         \u001b[0mN\u001b[0m\u001b[0;34m,\u001b[0m \u001b[0mC\u001b[0m\u001b[0;34m,\u001b[0m \u001b[0mH\u001b[0m\u001b[0;34m,\u001b[0m \u001b[0mW\u001b[0m \u001b[0;34m=\u001b[0m \u001b[0mx\u001b[0m\u001b[0;34m.\u001b[0m\u001b[0mshape\u001b[0m\u001b[0;34m\u001b[0m\u001b[0m\n\u001b[0m\u001b[1;32m    217\u001b[0m         \u001b[0mout_h\u001b[0m \u001b[0;34m=\u001b[0m \u001b[0;36m1\u001b[0m \u001b[0;34m+\u001b[0m \u001b[0mint\u001b[0m\u001b[0;34m(\u001b[0m\u001b[0;34m(\u001b[0m\u001b[0mH\u001b[0m \u001b[0;34m+\u001b[0m \u001b[0;36m2\u001b[0m\u001b[0;34m*\u001b[0m\u001b[0mself\u001b[0m\u001b[0;34m.\u001b[0m\u001b[0mpad\u001b[0m \u001b[0;34m-\u001b[0m \u001b[0mFH\u001b[0m\u001b[0;34m)\u001b[0m \u001b[0;34m/\u001b[0m \u001b[0mself\u001b[0m\u001b[0;34m.\u001b[0m\u001b[0mstride\u001b[0m\u001b[0;34m)\u001b[0m\u001b[0;34m\u001b[0m\u001b[0m\n\u001b[1;32m    218\u001b[0m         \u001b[0mout_w\u001b[0m \u001b[0;34m=\u001b[0m \u001b[0;36m1\u001b[0m \u001b[0;34m+\u001b[0m \u001b[0mint\u001b[0m\u001b[0;34m(\u001b[0m\u001b[0;34m(\u001b[0m\u001b[0mW\u001b[0m \u001b[0;34m+\u001b[0m \u001b[0;36m2\u001b[0m\u001b[0;34m*\u001b[0m\u001b[0mself\u001b[0m\u001b[0;34m.\u001b[0m\u001b[0mpad\u001b[0m \u001b[0;34m-\u001b[0m \u001b[0mFW\u001b[0m\u001b[0;34m)\u001b[0m \u001b[0;34m/\u001b[0m \u001b[0mself\u001b[0m\u001b[0;34m.\u001b[0m\u001b[0mstride\u001b[0m\u001b[0;34m)\u001b[0m\u001b[0;34m\u001b[0m\u001b[0m\n",
      "\u001b[0;31mValueError\u001b[0m: not enough values to unpack (expected 4, got 3)"
     ]
>>>>>>> 6f3fca003053b273795db17b57b49f11d082288b
    }
   ],
   "source": [
    "import sys, os\n",
    "#sys.path.appened(os.pardir)\n",
    "import numpy as np\n",
    "import matplotlib.pyplot as plt\n",
    "from simple_convnet import SimpleConvNet\n",
    "from common.trainer import Trainer\n",
    "\n",
    "x_train, t_train = x_train[:5000], t_train[:5000]\n",
    "\n",
    "max_epochs = 20\n",
    "\n",
    "network = SimpleConvNet(input_dim=(33600,1,28,28), \n",
    "                        conv_param = {'filter_num': 30, 'filter_size': 5, 'pad': 0, 'stride': 1},\n",
    "                        hidden_size=100, output_size=10, weight_init_std=0.01)\n",
    "                        \n",
    "trainer = Trainer(network, x_train, t_train, x_test, t_test,\n",
    "                  epochs=max_epochs, mini_batch_size=100,\n",
    "                  optimizer='Adam', optimizer_param={'lr': 0.001},\n",
    "                  evaluate_sample_num_per_epoch=1000, verbose=False)\n",
    "\n",
    "trainer.train()\n",
    "\n",
    "markers = {'train': 'o', 'test': 's'}\n",
    "x = np.arange(max_epochs)\n",
    "plt.plot(x, trainer.train_acc_list, marker='o', label='train', markevery=2)\n",
    "plt.plot(x, trainer.test_acc_list, marker='s', label='test', markevery=2)\n",
    "plt.xlabel(\"epochs\")\n",
    "plt.ylabel(\"accuracy\")\n",
    "plt.ylim(0, 1.0)\n",
    "plt.legend(loc='lower right')\n",
    "plt.show()"
   ]
  }
 ],
 "metadata": {
  "kernelspec": {
   "display_name": "Python 3",
   "language": "python",
   "name": "python3"
  },
  "language_info": {
   "codemirror_mode": {
    "name": "ipython",
    "version": 3
   },
   "file_extension": ".py",
   "mimetype": "text/x-python",
   "name": "python",
   "nbconvert_exporter": "python",
   "pygments_lexer": "ipython3",
   "version": "3.6.5"
  }
 },
 "nbformat": 4,
 "nbformat_minor": 2
}
